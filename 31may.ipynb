{
 "cells": [
  {
   "cell_type": "code",
   "execution_count": 1,
   "id": "7511d252-31ff-440b-852f-b97c36320b03",
   "metadata": {},
   "outputs": [],
   "source": [
    "import numpy as np"
   ]
  },
  {
   "cell_type": "code",
   "execution_count": 2,
   "id": "7e6a706b-9a9b-468c-94b0-5fa2c344e2cb",
   "metadata": {},
   "outputs": [
    {
     "data": {
      "text/plain": [
       "'1.26.4'"
      ]
     },
     "execution_count": 2,
     "metadata": {},
     "output_type": "execute_result"
    }
   ],
   "source": [
    "# checking numpy version\n",
    "np.__version__"
   ]
  },
  {
   "cell_type": "code",
   "execution_count": 3,
   "id": "f69971a7-9ffb-4d6f-9039-2f9de391dc5d",
   "metadata": {},
   "outputs": [
    {
     "name": "stdout",
     "output_type": "stream",
     "text": [
      "<class 'numpy.ndarray'>\n",
      "[1 2 3 4 5]\n"
     ]
    },
    {
     "data": {
      "text/plain": [
       "(None, None)"
      ]
     },
     "execution_count": 3,
     "metadata": {},
     "output_type": "execute_result"
    }
   ],
   "source": [
    "# NumPy is used to work with arrays. The array object in NumPy is called ndarray.\n",
    "# We can create a NumPy ndarray object by using the array() function.\n",
    "arr=np.array([1,2,3,4,5])\n",
    "print (type(arr)),print (arr)"
   ]
  },
  {
   "cell_type": "code",
   "execution_count": 4,
   "id": "ba665501-4161-49d2-bb50-29a68dfbf54b",
   "metadata": {},
   "outputs": [
    {
     "name": "stdout",
     "output_type": "stream",
     "text": [
      "40\n"
     ]
    }
   ],
   "source": [
    "# dimensions in arrays\n",
    "# 0-D ARRAYS\n",
    "# 0-D arrays, or Scalars, are the elements in an array.\n",
    "# Each value in an array is a 0-D array.\n",
    "arr=np.array(40)\n",
    "print (arr)"
   ]
  },
  {
   "cell_type": "code",
   "execution_count": 5,
   "id": "f7f6f1fb-e46d-4374-9c2f-f0e9dbf4f37e",
   "metadata": {},
   "outputs": [
    {
     "name": "stdout",
     "output_type": "stream",
     "text": [
      "[1 2 4 6 8]\n"
     ]
    }
   ],
   "source": [
    "# 1-D ARRAYS\n",
    "# an array that has 0-D array as its elements is uni-dimensional\n",
    "# or 1-D array , these are the most common and basic arrays\n",
    "arr=np.array([1,2,4,6,8])\n",
    "print (arr)"
   ]
  },
  {
   "cell_type": "code",
   "execution_count": 6,
   "id": "59c9c0e2-47ab-4c3d-a6ca-1ae739d4103a",
   "metadata": {},
   "outputs": [
    {
     "name": "stdout",
     "output_type": "stream",
     "text": [
      "[[1 3 5]\n",
      " [2 4 6]]\n"
     ]
    }
   ],
   "source": [
    "# 2-D ARRAY\n",
    "# AN ARRAY THAT HAS 1-D ARRAY AS ITS ELEMENTS IS 2-D ARRAY\n",
    "# THESE ARE OFTEN USED TO REPRESENT MATRIX OR 2ND ORDER TENSORS\n",
    "arr=np.array([[1,3,5],[2,4,6]])\n",
    "print (arr)"
   ]
  },
  {
   "cell_type": "code",
   "execution_count": 7,
   "id": "b03855b5-29b0-4902-9f8d-616a0b9973bc",
   "metadata": {},
   "outputs": [
    {
     "data": {
      "text/plain": [
       "array([[[ 1,  3,  5],\n",
       "        [ 7,  9, 11]],\n",
       "\n",
       "       [[ 2,  4,  6],\n",
       "        [ 8, 10, 12]]])"
      ]
     },
     "execution_count": 7,
     "metadata": {},
     "output_type": "execute_result"
    }
   ],
   "source": [
    "# 3-D arrays\n",
    "# An array that has 2-D arrays (matrices) as its elements \n",
    "# called 3-D array.\n",
    "# These are often used to represent a 3rd order tensor.\n",
    "arr=np.array([[[1,3,5],[7,9,11]],[[2,4,6],[8,10,12]]])\n",
    "arr"
   ]
  },
  {
   "cell_type": "code",
   "execution_count": 8,
   "id": "db4bb37f-99a4-478a-9f69-60732935d6bd",
   "metadata": {},
   "outputs": [
    {
     "name": "stdout",
     "output_type": "stream",
     "text": [
      "0\n",
      "1\n",
      "2\n",
      "3\n"
     ]
    }
   ],
   "source": [
    "# Check Number of Dimensions?\n",
    "# NumPy Arrays provides the 'ndim' attribute that \n",
    "# returns an integer that tells us how many dimensions the array have.\n",
    "a = np.array(42)\n",
    "b = np.array([1, 2, 3, 4, 5])\n",
    "c = np.array([[1, 2, 3], [4, 5, 6]])\n",
    "d = np.array([[[1, 2, 3], [4, 5, 6]], [[1, 2, 3], [4, 5, 6]]])\n",
    "print(a.ndim)\n",
    "print(b.ndim)\n",
    "print(c.ndim)\n",
    "print(d.ndim)"
   ]
  },
  {
   "cell_type": "code",
   "execution_count": 9,
   "id": "0093bca5-dbc7-4d06-88ec-9f340db1c271",
   "metadata": {},
   "outputs": [
    {
     "name": "stdout",
     "output_type": "stream",
     "text": [
      "[[[[[1 2 3 4]]]]]\n",
      "number of dimensions : 5\n"
     ]
    }
   ],
   "source": [
    "# Higher Dimensional Arrays\n",
    "# An array can have any number of dimensions.\n",
    "# When the array is created\n",
    "# you can define the number of dimensions by using the ndmin argument.\n",
    "arr = np.array([1, 2, 3, 4], ndmin=5)\n",
    "print(arr)\n",
    "print('number of dimensions :', arr.ndim)"
   ]
  },
  {
   "cell_type": "code",
   "execution_count": 10,
   "id": "3d954c59-4826-409f-98c0-fc93a616e894",
   "metadata": {},
   "outputs": [
    {
     "name": "stdout",
     "output_type": "stream",
     "text": [
      "7\n"
     ]
    }
   ],
   "source": [
    "# numpy array indexing\n",
    "a=np.array([1,2,3,4,5])\n",
    "print (a[2] + a[3])"
   ]
  },
  {
   "cell_type": "code",
   "execution_count": 11,
   "id": "4f5e3e82-567e-45e1-8b95-bb5fd9648749",
   "metadata": {},
   "outputs": [
    {
     "name": "stdout",
     "output_type": "stream",
     "text": [
      "[1 3 5 7 9]\n"
     ]
    }
   ],
   "source": [
    "# numpy array slicing\n",
    "a=np.array([1,2,3,4,5,6,7,8,9,10])\n",
    "print (a[::2])"
   ]
  },
  {
   "cell_type": "code",
   "execution_count": 12,
   "id": "244958e1-6e73-4551-a3ac-dba42792eeda",
   "metadata": {},
   "outputs": [
    {
     "name": "stdout",
     "output_type": "stream",
     "text": [
      "int32\n"
     ]
    }
   ],
   "source": [
    "# numpy data types\n",
    "a=np.array([1,2,3,4,5])\n",
    "print(a.dtype)"
   ]
  },
  {
   "cell_type": "code",
   "execution_count": 13,
   "id": "a750872c-7587-49e9-996a-a3f99cab5a9b",
   "metadata": {},
   "outputs": [
    {
     "name": "stdout",
     "output_type": "stream",
     "text": [
      "<U6\n"
     ]
    }
   ],
   "source": [
    "arr = np.array(['apple', 'banana', 'cherry'])\n",
    "print(arr.dtype)"
   ]
  },
  {
   "cell_type": "code",
   "execution_count": 14,
   "id": "ebb2cc01-9219-4959-b47a-b16f3c73febd",
   "metadata": {},
   "outputs": [
    {
     "name": "stdout",
     "output_type": "stream",
     "text": [
      "[1 2 2]\n",
      "int32\n"
     ]
    }
   ],
   "source": [
    "a=np.array([1.1,2.2,2.3])\n",
    "b=a.astype('i')\n",
    "print (b)\n",
    "print (b.dtype)"
   ]
  },
  {
   "cell_type": "code",
   "execution_count": 15,
   "id": "6dcc84fc-9a7b-47cb-8032-d5db1947b89c",
   "metadata": {},
   "outputs": [
    {
     "name": "stdout",
     "output_type": "stream",
     "text": [
      "[ True  True False]\n",
      "bool\n"
     ]
    }
   ],
   "source": [
    "a=np.array([1,1,0])\n",
    "b=a.astype(bool)\n",
    "print (b)\n",
    "print (b.dtype)"
   ]
  },
  {
   "cell_type": "code",
   "execution_count": 16,
   "id": "1296e2bb-6cd4-475c-9e3e-a906f20ada9a",
   "metadata": {},
   "outputs": [
    {
     "name": "stdout",
     "output_type": "stream",
     "text": [
      "[42  2  3  4  5]\n",
      "[1 2 3 4 5]\n"
     ]
    }
   ],
   "source": [
    "# numpy array copy vs view\n",
    "a=np.array([1,2,3,4,5])\n",
    "b=a.copy()\n",
    "a[0]=42\n",
    "print (a)\n",
    "print (b)"
   ]
  },
  {
   "cell_type": "code",
   "execution_count": 17,
   "id": "a9977e7c-69ce-4160-b847-f3eebf989053",
   "metadata": {},
   "outputs": [
    {
     "name": "stdout",
     "output_type": "stream",
     "text": [
      "[42  2  3  4  5]\n",
      "[42  2  3  4  5]\n"
     ]
    }
   ],
   "source": [
    "a=np.array([1,2,3,4,5])\n",
    "b=a.view()\n",
    "a[0]=42\n",
    "print (a)\n",
    "print (b)"
   ]
  },
  {
   "cell_type": "code",
   "execution_count": 18,
   "id": "9edbc717-5a08-48ad-8b00-eb61de6cd9aa",
   "metadata": {},
   "outputs": [
    {
     "name": "stdout",
     "output_type": "stream",
     "text": [
      "[1 2 3 4 5]\n",
      "[1 2 3 4 5]\n"
     ]
    }
   ],
   "source": [
    "n1=np.array([2,2,3,4,5])\n",
    "m1=n1.view()\n",
    "n1[0]=1\n",
    "print (n1)\n",
    "print (m1)"
   ]
  },
  {
   "cell_type": "code",
   "execution_count": 19,
   "id": "c25aa39f-dffe-495b-81c5-7514265aed7b",
   "metadata": {},
   "outputs": [
    {
     "name": "stdout",
     "output_type": "stream",
     "text": [
      "None\n",
      "[1 2 3 4 5]\n"
     ]
    }
   ],
   "source": [
    "# check if array owns the data?\n",
    "arr = np.array([1, 2, 3, 4, 5])\n",
    "x = arr.copy()\n",
    "y = arr.view()\n",
    "print(x.base)\n",
    "print(y.base)"
   ]
  }
 ],
 "metadata": {
  "kernelspec": {
   "display_name": "Python 3 (ipykernel)",
   "language": "python",
   "name": "python3"
  },
  "language_info": {
   "codemirror_mode": {
    "name": "ipython",
    "version": 3
   },
   "file_extension": ".py",
   "mimetype": "text/x-python",
   "name": "python",
   "nbconvert_exporter": "python",
   "pygments_lexer": "ipython3",
   "version": "3.12.2"
  }
 },
 "nbformat": 4,
 "nbformat_minor": 5
}

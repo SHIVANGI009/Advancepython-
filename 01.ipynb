{
 "cells": [
  {
   "cell_type": "code",
   "execution_count": 1,
   "id": "4c35377b-23fd-4a81-8cc0-3a107f0ffee8",
   "metadata": {},
   "outputs": [],
   "source": [
    "import numpy as np\n",
    "import pandas as pd"
   ]
  },
  {
   "cell_type": "code",
   "execution_count": 10,
   "id": "e6e8c410-c6e7-4035-b4cb-b187c83a52dd",
   "metadata": {},
   "outputs": [
    {
     "data": {
      "text/plain": [
       "array([1, 2, 3, 4, 5])"
      ]
     },
     "execution_count": 10,
     "metadata": {},
     "output_type": "execute_result"
    }
   ],
   "source": [
    "# Create a NumPy array with values [1, 2, 3, 4, 5] \n",
    "a=np.array([1,2,3,4,5])\n",
    "a"
   ]
  },
  {
   "cell_type": "code",
   "execution_count": 11,
   "id": "cab51231-95aa-4dae-bd73-a2f7819d12b9",
   "metadata": {},
   "outputs": [
    {
     "data": {
      "text/plain": [
       "array([ 2,  4,  6,  8, 10])"
      ]
     },
     "execution_count": 11,
     "metadata": {},
     "output_type": "execute_result"
    }
   ],
   "source": [
    "# and multiply every element by 2.\n",
    "a*2"
   ]
  },
  {
   "cell_type": "code",
   "execution_count": 17,
   "id": "59407943-14c5-4050-910a-affc002821b7",
   "metadata": {},
   "outputs": [
    {
     "data": {
      "text/plain": [
       "array([[1., 0., 0.],\n",
       "       [0., 1., 0.],\n",
       "       [0., 0., 1.]])"
      ]
     },
     "execution_count": 17,
     "metadata": {},
     "output_type": "execute_result"
    }
   ],
   "source": [
    "# Generate a 3x3 identity matrix.\n",
    "b=np.eye(3)\n",
    "b"
   ]
  },
  {
   "cell_type": "code",
   "execution_count": 21,
   "id": "5df3cf73-2b75-47f6-93f6-7c881033a53b",
   "metadata": {},
   "outputs": [
    {
     "data": {
      "text/plain": [
       "array([0., 0., 0., 0., 0., 0., 0., 0., 0., 0.])"
      ]
     },
     "execution_count": 21,
     "metadata": {},
     "output_type": "execute_result"
    }
   ],
   "source": [
    "# Create an array of 10 zeros\n",
    "c=np.zeros(10)\n",
    "c"
   ]
  },
  {
   "cell_type": "code",
   "execution_count": 22,
   "id": "6ec325a3-69af-43de-90b4-42af12342077",
   "metadata": {},
   "outputs": [
    {
     "data": {
      "text/plain": [
       "array([1., 1., 1., 1., 1., 1., 1., 1., 1., 1.])"
      ]
     },
     "execution_count": 22,
     "metadata": {},
     "output_type": "execute_result"
    }
   ],
   "source": [
    "# and an array of 10 ones.\n",
    "d=np.ones(10)\n",
    "d"
   ]
  },
  {
   "cell_type": "code",
   "execution_count": 23,
   "id": "3065b3bc-c5e4-46f0-b82a-b097fdb2bd03",
   "metadata": {},
   "outputs": [
    {
     "data": {
      "text/plain": [
       "array([ 0,  5, 10, 15, 20, 25, 30, 35, 40, 45, 50])"
      ]
     },
     "execution_count": 23,
     "metadata": {},
     "output_type": "execute_result"
    }
   ],
   "source": [
    "# Create an array of evenly spaced numbers between 0 and 50 \n",
    "# with a step size of 5.\n",
    "e=np.arange(0,51,5)\n",
    "e"
   ]
  },
  {
   "cell_type": "code",
   "execution_count": 25,
   "id": "9008b45c-e7dc-4ccc-8f4d-c32ddca777e0",
   "metadata": {},
   "outputs": [
    {
     "name": "stdout",
     "output_type": "stream",
     "text": [
      "[2, 4, 6, 8]\n"
     ]
    }
   ],
   "source": [
    "# Extract all even numbers from a given array [1, 2, 3, 4, 5, 6, 7, 8].\n",
    "f=np.array([1,2,3,4,5,6,7,8])\n",
    "even_num=[i for i in f if i%2==0]\n",
    "print(even_num)"
   ]
  },
  {
   "cell_type": "code",
   "execution_count": 30,
   "id": "6c1f4c97-9b21-4b46-bd6a-270cc972fbe3",
   "metadata": {},
   "outputs": [
    {
     "name": "stdout",
     "output_type": "stream",
     "text": [
      "[[0.81535043 0.75992545 0.02087972 0.24261272 0.23903589]\n",
      " [0.54187635 0.33433959 0.46488081 0.29341079 0.25396817]\n",
      " [0.14939505 0.35294772 0.55275743 0.81205502 0.093172  ]\n",
      " [0.4275143  0.98885126 0.66869093 0.85001705 0.2632065 ]\n",
      " [0.06178373 0.12637977 0.34173147 0.71673863 0.2995    ]]\n"
     ]
    }
   ],
   "source": [
    "# Create a 5x5 array with random values and extract the first two rows.\n",
    "g=np.random.rand(5,5)\n",
    "print(g)"
   ]
  },
  {
   "cell_type": "code",
   "execution_count": 39,
   "id": "36f7e652-9433-4fb8-b0b2-eadb45881077",
   "metadata": {},
   "outputs": [
    {
     "name": "stdout",
     "output_type": "stream",
     "text": [
      "[10  9  8  7  6  5  4  3  2  1]\n"
     ]
    }
   ],
   "source": [
    "# Create a 1D array and reverse its elements.\n",
    "h=np.array([1,2,3,4,5,6,7,8,9,10])\n",
    "h=h[::-1]\n",
    "print(h)"
   ]
  },
  {
   "cell_type": "code",
   "execution_count": 89,
   "id": "a7851a86-85f3-48c5-bfb1-9e98de8bd53f",
   "metadata": {},
   "outputs": [
    {
     "name": "stdout",
     "output_type": "stream",
     "text": [
      "array 1 : [10 20 30]\n",
      "array 2 : [1 2 3]\n",
      "add : [11 22 33]\n",
      "sub : [ 9 18 27]\n",
      "mult : [10 40 90]\n",
      "div : [10. 10. 10.]\n"
     ]
    }
   ],
   "source": [
    "# Perform element-wise addition, subtraction, multiplication, and \n",
    "# division on two arrays\n",
    "# The error occurs because Python lists do not support\n",
    "# element-wise arithmetic operations,\n",
    "# but NumPy arrays do.\n",
    "arr1=np.array([10,20,30])\n",
    "arr2=np.array([1,2,3])\n",
    "print(f'array 1 : {arr1}')\n",
    "print(f'array 2 : {arr2}')\n",
    "add=arr1+arr2\n",
    "sub=arr1-arr2\n",
    "mult=arr1*arr2\n",
    "div=arr1/arr2\n",
    "print(f'add : {add}')\n",
    "print(f'sub : {sub}')\n",
    "print(f'mult : {mult}')\n",
    "print(f'div : {div}')"
   ]
  },
  {
   "cell_type": "code",
   "execution_count": 48,
   "id": "0c68ecd8-5165-4fb4-ab92-06e389d22669",
   "metadata": {},
   "outputs": [
    {
     "name": "stdout",
     "output_type": "stream",
     "text": [
      "[ 1  4  9 16 25]\n",
      "[1. 2. 3. 4. 5.]\n",
      "[2.71828183e+00 5.45981500e+01 8.10308393e+03 8.88611052e+06\n",
      " 7.20048993e+10]\n"
     ]
    }
   ],
   "source": [
    "# Compute the square root and exponential of the array.\n",
    "i=np.array([1,4,9,16,25])\n",
    "arr1=np.sqrt(i)\n",
    "arr2=np.exp(i)\n",
    "print(i)\n",
    "print(arr1)\n",
    "print(arr2)"
   ]
  },
  {
   "cell_type": "code",
   "execution_count": 52,
   "id": "3356c008-6c48-450e-956a-ad5102b52f8c",
   "metadata": {},
   "outputs": [
    {
     "name": "stdout",
     "output_type": "stream",
     "text": [
      "[10 20 30 40 50]\n",
      "30.0\n",
      "30.0\n",
      "14.142135623730951\n",
      "200.0\n"
     ]
    }
   ],
   "source": [
    "j=np.array([10,20,30,40,50])\n",
    "mean=np.mean(j)\n",
    "median=np.median(j)\n",
    "std_dev=np.std(j)\n",
    "variance=np.var(j)\n",
    "print(j)\n",
    "print(mean)\n",
    "print(median)\n",
    "print(std_dev)\n",
    "print(variance)"
   ]
  },
  {
   "cell_type": "code",
   "execution_count": 54,
   "id": "f912ca26-8ec5-4208-b120-f34607a3d214",
   "metadata": {},
   "outputs": [
    {
     "name": "stdout",
     "output_type": "stream",
     "text": [
      "[ 7  1  3 10  5]\n",
      "1\n",
      "10\n"
     ]
    }
   ],
   "source": [
    "# Find the maximum and minimum values and their indices in the array.\n",
    "k=np.array([7,1,3,10,5])\n",
    "min1=np.min(k)\n",
    "max1=np.max(k)\n",
    "print(k)\n",
    "print(min1)\n",
    "print(max1)"
   ]
  },
  {
   "cell_type": "code",
   "execution_count": 57,
   "id": "0599fbb5-f541-4926-9b86-d17c51805993",
   "metadata": {},
   "outputs": [
    {
     "name": "stdout",
     "output_type": "stream",
     "text": [
      "[1 2 3 4 5 6]\n",
      "[[1 2 3]\n",
      " [4 5 6]]\n"
     ]
    }
   ],
   "source": [
    "# Reshape a 1D array [1, 2, 3, 4, 5, 6] into a 2x3 matrix.\n",
    "l=np.array([1,2,3,4,5,6])\n",
    "arr1=l.reshape(2,3)\n",
    "print(l)\n",
    "print(arr1)"
   ]
  },
  {
   "cell_type": "code",
   "execution_count": 58,
   "id": "baf7c005-2a11-4777-b7eb-bb51860a8038",
   "metadata": {},
   "outputs": [
    {
     "name": "stdout",
     "output_type": "stream",
     "text": [
      "[[9 6 2 6]\n",
      " [6 2 3 5]\n",
      " [2 9 6 5]\n",
      " [8 8 1 5]]\n",
      "[[9 6 2 8]\n",
      " [6 2 9 8]\n",
      " [2 3 6 1]\n",
      " [6 5 5 5]]\n"
     ]
    }
   ],
   "source": [
    "# Create a 4x4 array and transpose it.\n",
    "m=np.random.randint(1,10,(4,4))\n",
    "arr1=m.T\n",
    "print(m)\n",
    "print(arr1)"
   ]
  },
  {
   "cell_type": "code",
   "execution_count": 60,
   "id": "c85343d5-b949-4725-ac98-ed2f61ff7c4f",
   "metadata": {},
   "outputs": [
    {
     "name": "stdout",
     "output_type": "stream",
     "text": [
      "[[ 4  5  6]\n",
      " [ 7  8  9]\n",
      " [10 11 12]]\n",
      "[1 2 3]\n",
      "[[ 5  7  9]\n",
      " [ 8 10 12]\n",
      " [11 13 15]]\n"
     ]
    }
   ],
   "source": [
    "# Add a 1D array [1, 2, 3] to every row of a 3x3 matrix.\n",
    "n=np.array(([4,5,6],[7,8,9],[10,11,12]))\n",
    "o=np.array([1,2,3])\n",
    "result=n+o\n",
    "print(n)\n",
    "print(o)\n",
    "print(result)"
   ]
  },
  {
   "cell_type": "code",
   "execution_count": 61,
   "id": "9f08ef01-c01b-4cff-bfa8-99e3dbabdfe1",
   "metadata": {},
   "outputs": [
    {
     "name": "stdout",
     "output_type": "stream",
     "text": [
      "[[1 2 3]\n",
      " [4 5 6]\n",
      " [7 8 9]]\n",
      "[4. 5. 6.]\n",
      "[[-3. -3. -3.]\n",
      " [ 0.  0.  0.]\n",
      " [ 3.  3.  3.]]\n"
     ]
    }
   ],
   "source": [
    "# Subtract the mean of each column from the elements of a 2D array.\n",
    "p=np.array(([[1, 2, 3],[4, 5, 6],[7, 8, 9]])) \n",
    "arr1=np.mean(p,axis=0)\n",
    "result=p-arr1\n",
    "print(p)\n",
    "print(arr1)\n",
    "print(result)"
   ]
  },
  {
   "cell_type": "code",
   "execution_count": 62,
   "id": "88da1afa-9df9-45b2-b4f9-245d424de4a4",
   "metadata": {},
   "outputs": [
    {
     "name": "stdout",
     "output_type": "stream",
     "text": [
      "[ 5 10 15 20 25]\n",
      "[20, 25]\n"
     ]
    }
   ],
   "source": [
    "# Create an array [5, 10, 15, 20, 25] and find elements greater than 15.\n",
    "q=np.array([5,10,15,20,25])\n",
    "result=[i for i in q if i>15]\n",
    "print(q)\n",
    "print(result)"
   ]
  },
  {
   "cell_type": "code",
   "execution_count": 65,
   "id": "6a128de1-d7e8-45c3-98a0-66704e983ca0",
   "metadata": {},
   "outputs": [
    {
     "name": "stdout",
     "output_type": "stream",
     "text": [
      "[0 0 0 4]\n"
     ]
    }
   ],
   "source": [
    "# Replace all negative values in the array [-1, -2, 3, 4] with 0.\n",
    "r=np.array([-1,-2,-3,4])\n",
    "r[r<0]=0\n",
    "print(r)"
   ]
  },
  {
   "cell_type": "code",
   "execution_count": 66,
   "id": "5d8f8d64-3694-4f6e-a8b9-a6966dd0a668",
   "metadata": {},
   "outputs": [
    {
     "data": {
      "text/plain": [
       "array([[10,  0,  0],\n",
       "       [ 0, 20,  0],\n",
       "       [ 0,  0, 30]])"
      ]
     },
     "execution_count": 66,
     "metadata": {},
     "output_type": "execute_result"
    }
   ],
   "source": [
    "# Create a diagonal matrix with diagonal values [10, 20, 30].\n",
    "s=np.diag([10,20,30])\n",
    "s"
   ]
  },
  {
   "cell_type": "code",
   "execution_count": 69,
   "id": "17e5469d-5041-4566-ad7a-52b25e5cee55",
   "metadata": {},
   "outputs": [
    {
     "name": "stdout",
     "output_type": "stream",
     "text": [
      "[[[4 0 8 8]\n",
      "  [2 5 5 5]\n",
      "  [5 9 1 0]]\n",
      "\n",
      " [[8 3 2 4]\n",
      "  [3 8 5 8]\n",
      "  [1 2 1 8]]]\n"
     ]
    }
   ],
   "source": [
    "# Create a 3D array of shape (2, 3, 4) with random integers.\n",
    "t=np.random.randint(0,10,(2,3,4))\n",
    "print(t)"
   ]
  },
  {
   "cell_type": "code",
   "execution_count": 77,
   "id": "79b3d872-14e9-4ffd-a9e9-443ee07a9375",
   "metadata": {},
   "outputs": [
    {
     "name": "stdout",
     "output_type": "stream",
     "text": [
      "20 40\n"
     ]
    }
   ],
   "source": [
    "# Use fancy indexing to extract values [20, 40] from the array \n",
    "# [10, 20, 30, 40, 50].\n",
    "u=np.array([10,20,30,40,50])\n",
    "print(u[1],u[3])"
   ]
  },
  {
   "cell_type": "code",
   "execution_count": 83,
   "id": "25f38b26-1a16-4a23-a05d-2b92049c6c7c",
   "metadata": {},
   "outputs": [
    {
     "name": "stdout",
     "output_type": "stream",
     "text": [
      "[[ 1  2]\n",
      " [ 3  4]\n",
      " [ 5  6]\n",
      " [ 7  8]\n",
      " [ 9 10]]\n",
      "sum1 55\n",
      "sum2 [ 3  7 11 15 19]\n",
      "sum3 [25 30]\n"
     ]
    }
   ],
   "source": [
    "# Sum all elements in a 2D array and compute the sum along rows and columns.\n",
    "v=np.array(([1,2],[3,4],[5,6],[7,8],[9,10]))\n",
    "sum1=np.sum(v)\n",
    "sum2=np.sum(v,axis=1)\n",
    "sum3=np.sum(v,axis=0)\n",
    "print(v)\n",
    "print('sum1',sum1)\n",
    "print('sum2',sum2)\n",
    "print('sum3',sum3)"
   ]
  },
  {
   "cell_type": "code",
   "execution_count": 85,
   "id": "88cdd5a6-db88-4daa-a927-953a7c5733f2",
   "metadata": {},
   "outputs": [
    {
     "data": {
      "text/plain": [
       "array([ 1,  3,  6, 10])"
      ]
     },
     "execution_count": 85,
     "metadata": {},
     "output_type": "execute_result"
    }
   ],
   "source": [
    "# Compute the cumulative sum of the array [1, 2, 3, 4].\n",
    "w=np.array([1,2,3,4])\n",
    "w.cumsum()"
   ]
  },
  {
   "cell_type": "code",
   "execution_count": 86,
   "id": "c951318d-cf35-4a3b-ad67-60407f274ca5",
   "metadata": {},
   "outputs": [
    {
     "data": {
      "text/plain": [
       "array([14, 56, 14, 71, 48])"
      ]
     },
     "execution_count": 86,
     "metadata": {},
     "output_type": "execute_result"
    }
   ],
   "source": [
    "# Generate an array of 5 random integers between 1 and 100.\n",
    "x=np.random.randint(1,100,5)\n",
    "x"
   ]
  },
  {
   "cell_type": "code",
   "execution_count": 88,
   "id": "8486ae37-0da5-4575-aa4b-e4459bc57954",
   "metadata": {},
   "outputs": [
    {
     "data": {
      "text/plain": [
       "array([[0.38889911, 0.4602667 , 0.4023966 , 0.32920368],\n",
       "       [0.1389537 , 0.04330976, 0.89505651, 0.40743314],\n",
       "       [0.44715023, 0.13381201, 0.14172458, 0.99664506]])"
      ]
     },
     "execution_count": 88,
     "metadata": {},
     "output_type": "execute_result"
    }
   ],
   "source": [
    "# Create a 2D array with random floats between 0 and 1.\n",
    "y=np.random.rand(3,4)\n",
    "y"
   ]
  },
  {
   "cell_type": "code",
   "execution_count": null,
   "id": "f65d91b0-f242-41a5-8281-d8b9e6505080",
   "metadata": {},
   "outputs": [],
   "source": []
  }
 ],
 "metadata": {
  "kernelspec": {
   "display_name": "Python 3 (ipykernel)",
   "language": "python",
   "name": "python3"
  },
  "language_info": {
   "codemirror_mode": {
    "name": "ipython",
    "version": 3
   },
   "file_extension": ".py",
   "mimetype": "text/x-python",
   "name": "python",
   "nbconvert_exporter": "python",
   "pygments_lexer": "ipython3",
   "version": "3.12.6"
  }
 },
 "nbformat": 4,
 "nbformat_minor": 5
}

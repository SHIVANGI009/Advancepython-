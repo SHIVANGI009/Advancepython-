{
 "cells": [
  {
   "cell_type": "code",
   "execution_count": null,
   "id": "484d9fed-f615-4eb6-a1c4-17e902a794a7",
   "metadata": {},
   "outputs": [],
   "source": []
  },
  {
   "cell_type": "code",
   "execution_count": 4,
   "id": "7694ee6e-eb94-44e5-b49e-4ffb6a9efd6e",
   "metadata": {},
   "outputs": [],
   "source": [
    "import numpy as np\n",
    "import pandas as pd"
   ]
  },
  {
   "cell_type": "code",
   "execution_count": 2,
   "id": "efa83b05-6c84-4343-82d2-b5bcad82f692",
   "metadata": {},
   "outputs": [],
   "source": [
    "df=pd.read_csv(\"C:\\\\Users\\\\shiva\\\\Downloads\\\\covid_toy.csv\")"
   ]
  },
  {
   "cell_type": "code",
   "execution_count": 3,
   "id": "c7569281-d2a4-4f1f-b862-55e28575e650",
   "metadata": {},
   "outputs": [
    {
     "data": {
      "text/html": [
       "<div>\n",
       "<style scoped>\n",
       "    .dataframe tbody tr th:only-of-type {\n",
       "        vertical-align: middle;\n",
       "    }\n",
       "\n",
       "    .dataframe tbody tr th {\n",
       "        vertical-align: top;\n",
       "    }\n",
       "\n",
       "    .dataframe thead th {\n",
       "        text-align: right;\n",
       "    }\n",
       "</style>\n",
       "<table border=\"1\" class=\"dataframe\">\n",
       "  <thead>\n",
       "    <tr style=\"text-align: right;\">\n",
       "      <th></th>\n",
       "      <th>age</th>\n",
       "      <th>gender</th>\n",
       "      <th>fever</th>\n",
       "      <th>cough</th>\n",
       "      <th>city</th>\n",
       "      <th>has_covid</th>\n",
       "    </tr>\n",
       "  </thead>\n",
       "  <tbody>\n",
       "    <tr>\n",
       "      <th>0</th>\n",
       "      <td>60</td>\n",
       "      <td>Male</td>\n",
       "      <td>103.0</td>\n",
       "      <td>Mild</td>\n",
       "      <td>Kolkata</td>\n",
       "      <td>No</td>\n",
       "    </tr>\n",
       "    <tr>\n",
       "      <th>1</th>\n",
       "      <td>27</td>\n",
       "      <td>Male</td>\n",
       "      <td>100.0</td>\n",
       "      <td>Mild</td>\n",
       "      <td>Delhi</td>\n",
       "      <td>Yes</td>\n",
       "    </tr>\n",
       "    <tr>\n",
       "      <th>2</th>\n",
       "      <td>42</td>\n",
       "      <td>Male</td>\n",
       "      <td>101.0</td>\n",
       "      <td>Mild</td>\n",
       "      <td>Delhi</td>\n",
       "      <td>No</td>\n",
       "    </tr>\n",
       "  </tbody>\n",
       "</table>\n",
       "</div>"
      ],
      "text/plain": [
       "   age gender  fever cough     city has_covid\n",
       "0   60   Male  103.0  Mild  Kolkata        No\n",
       "1   27   Male  100.0  Mild    Delhi       Yes\n",
       "2   42   Male  101.0  Mild    Delhi        No"
      ]
     },
     "execution_count": 3,
     "metadata": {},
     "output_type": "execute_result"
    }
   ],
   "source": [
    "df.head(3)"
   ]
  },
  {
   "cell_type": "code",
   "execution_count": 5,
   "id": "c3d74d52-0930-4a58-95d3-59725cdde948",
   "metadata": {},
   "outputs": [
    {
     "data": {
      "text/plain": [
       "age           0\n",
       "gender        0\n",
       "fever        10\n",
       "cough         0\n",
       "city          0\n",
       "has_covid     0\n",
       "dtype: int64"
      ]
     },
     "execution_count": 5,
     "metadata": {},
     "output_type": "execute_result"
    }
   ],
   "source": [
    "df.isnull().sum()"
   ]
  },
  {
   "cell_type": "code",
   "execution_count": 6,
   "id": "ab7d196b-34d8-40e5-aacf-dcb5d9f3ba44",
   "metadata": {},
   "outputs": [
    {
     "data": {
      "text/plain": [
       "age          0\n",
       "gender       0\n",
       "fever        0\n",
       "cough        0\n",
       "city         0\n",
       "has_covid    0\n",
       "dtype: int64"
      ]
     },
     "execution_count": 6,
     "metadata": {},
     "output_type": "execute_result"
    }
   ],
   "source": [
    "df=df.dropna()\n",
    "df.isnull().sum()"
   ]
  },
  {
   "cell_type": "code",
   "execution_count": 7,
   "id": "f773bd90-ebef-4027-a01a-b208bfac8544",
   "metadata": {},
   "outputs": [
    {
     "data": {
      "text/html": [
       "<div>\n",
       "<style scoped>\n",
       "    .dataframe tbody tr th:only-of-type {\n",
       "        vertical-align: middle;\n",
       "    }\n",
       "\n",
       "    .dataframe tbody tr th {\n",
       "        vertical-align: top;\n",
       "    }\n",
       "\n",
       "    .dataframe thead th {\n",
       "        text-align: right;\n",
       "    }\n",
       "</style>\n",
       "<table border=\"1\" class=\"dataframe\">\n",
       "  <thead>\n",
       "    <tr style=\"text-align: right;\">\n",
       "      <th></th>\n",
       "      <th>age</th>\n",
       "      <th>gender</th>\n",
       "      <th>fever</th>\n",
       "      <th>cough</th>\n",
       "      <th>city</th>\n",
       "      <th>has_covid</th>\n",
       "    </tr>\n",
       "  </thead>\n",
       "  <tbody>\n",
       "    <tr>\n",
       "      <th>0</th>\n",
       "      <td>60</td>\n",
       "      <td>Male</td>\n",
       "      <td>103.0</td>\n",
       "      <td>Mild</td>\n",
       "      <td>Kolkata</td>\n",
       "      <td>No</td>\n",
       "    </tr>\n",
       "    <tr>\n",
       "      <th>1</th>\n",
       "      <td>27</td>\n",
       "      <td>Male</td>\n",
       "      <td>100.0</td>\n",
       "      <td>Mild</td>\n",
       "      <td>Delhi</td>\n",
       "      <td>Yes</td>\n",
       "    </tr>\n",
       "    <tr>\n",
       "      <th>2</th>\n",
       "      <td>42</td>\n",
       "      <td>Male</td>\n",
       "      <td>101.0</td>\n",
       "      <td>Mild</td>\n",
       "      <td>Delhi</td>\n",
       "      <td>No</td>\n",
       "    </tr>\n",
       "  </tbody>\n",
       "</table>\n",
       "</div>"
      ],
      "text/plain": [
       "   age gender  fever cough     city has_covid\n",
       "0   60   Male  103.0  Mild  Kolkata        No\n",
       "1   27   Male  100.0  Mild    Delhi       Yes\n",
       "2   42   Male  101.0  Mild    Delhi        No"
      ]
     },
     "execution_count": 7,
     "metadata": {},
     "output_type": "execute_result"
    }
   ],
   "source": [
    "df.head(3)"
   ]
  },
  {
   "cell_type": "code",
   "execution_count": 8,
   "id": "d07438f8-e87b-47d8-bb63-8c146a417d10",
   "metadata": {},
   "outputs": [],
   "source": [
    "from sklearn.preprocessing import LabelEncoder"
   ]
  },
  {
   "cell_type": "code",
   "execution_count": 9,
   "id": "632306aa-b6d5-4b32-995d-f4c4d63be47a",
   "metadata": {},
   "outputs": [],
   "source": [
    "lb=LabelEncoder()"
   ]
  },
  {
   "cell_type": "code",
   "execution_count": 10,
   "id": "2c8a411c-339e-452c-9f0c-c74826cefe93",
   "metadata": {},
   "outputs": [],
   "source": [
    "df['gender']=lb.fit_transform(df['gender'])"
   ]
  },
  {
   "cell_type": "code",
   "execution_count": 11,
   "id": "92adbd0a-c126-426a-84b6-423b2a780efa",
   "metadata": {},
   "outputs": [
    {
     "data": {
      "text/html": [
       "<div>\n",
       "<style scoped>\n",
       "    .dataframe tbody tr th:only-of-type {\n",
       "        vertical-align: middle;\n",
       "    }\n",
       "\n",
       "    .dataframe tbody tr th {\n",
       "        vertical-align: top;\n",
       "    }\n",
       "\n",
       "    .dataframe thead th {\n",
       "        text-align: right;\n",
       "    }\n",
       "</style>\n",
       "<table border=\"1\" class=\"dataframe\">\n",
       "  <thead>\n",
       "    <tr style=\"text-align: right;\">\n",
       "      <th></th>\n",
       "      <th>age</th>\n",
       "      <th>gender</th>\n",
       "      <th>fever</th>\n",
       "      <th>cough</th>\n",
       "      <th>city</th>\n",
       "      <th>has_covid</th>\n",
       "    </tr>\n",
       "  </thead>\n",
       "  <tbody>\n",
       "    <tr>\n",
       "      <th>0</th>\n",
       "      <td>60</td>\n",
       "      <td>1</td>\n",
       "      <td>103.0</td>\n",
       "      <td>Mild</td>\n",
       "      <td>Kolkata</td>\n",
       "      <td>No</td>\n",
       "    </tr>\n",
       "    <tr>\n",
       "      <th>1</th>\n",
       "      <td>27</td>\n",
       "      <td>1</td>\n",
       "      <td>100.0</td>\n",
       "      <td>Mild</td>\n",
       "      <td>Delhi</td>\n",
       "      <td>Yes</td>\n",
       "    </tr>\n",
       "  </tbody>\n",
       "</table>\n",
       "</div>"
      ],
      "text/plain": [
       "   age  gender  fever cough     city has_covid\n",
       "0   60       1  103.0  Mild  Kolkata        No\n",
       "1   27       1  100.0  Mild    Delhi       Yes"
      ]
     },
     "execution_count": 11,
     "metadata": {},
     "output_type": "execute_result"
    }
   ],
   "source": [
    "df.head(2)"
   ]
  },
  {
   "cell_type": "code",
   "execution_count": 12,
   "id": "1cb73003-7ff3-40cd-86de-32cab0c08e02",
   "metadata": {},
   "outputs": [],
   "source": [
    "df['cough']=lb.fit_transform(df['cough'])\n",
    "df['city']=lb.fit_transform(df['city'])\n",
    "df['has_covid']=lb.fit_transform(df['has_covid'])"
   ]
  },
  {
   "cell_type": "code",
   "execution_count": 13,
   "id": "f6caf4ff-7aef-4536-8b81-4601c415c85a",
   "metadata": {},
   "outputs": [],
   "source": [
    "# OrdinalEncoding"
   ]
  },
  {
   "cell_type": "code",
   "execution_count": 14,
   "id": "329ee051-4cdc-406e-b3dc-697400607173",
   "metadata": {},
   "outputs": [],
   "source": [
    "df=pd.read_csv(\"C:\\\\Users\\\\shiva\\\\Downloads\\\\covid_toy.csv\") "
   ]
  },
  {
   "cell_type": "code",
   "execution_count": 15,
   "id": "45aee847-0a08-4ef6-a0ac-53a502ac0d7c",
   "metadata": {},
   "outputs": [
    {
     "data": {
      "text/html": [
       "<div>\n",
       "<style scoped>\n",
       "    .dataframe tbody tr th:only-of-type {\n",
       "        vertical-align: middle;\n",
       "    }\n",
       "\n",
       "    .dataframe tbody tr th {\n",
       "        vertical-align: top;\n",
       "    }\n",
       "\n",
       "    .dataframe thead th {\n",
       "        text-align: right;\n",
       "    }\n",
       "</style>\n",
       "<table border=\"1\" class=\"dataframe\">\n",
       "  <thead>\n",
       "    <tr style=\"text-align: right;\">\n",
       "      <th></th>\n",
       "      <th>age</th>\n",
       "      <th>gender</th>\n",
       "      <th>fever</th>\n",
       "      <th>cough</th>\n",
       "      <th>city</th>\n",
       "      <th>has_covid</th>\n",
       "    </tr>\n",
       "  </thead>\n",
       "  <tbody>\n",
       "    <tr>\n",
       "      <th>0</th>\n",
       "      <td>60</td>\n",
       "      <td>Male</td>\n",
       "      <td>103.0</td>\n",
       "      <td>Mild</td>\n",
       "      <td>Kolkata</td>\n",
       "      <td>No</td>\n",
       "    </tr>\n",
       "    <tr>\n",
       "      <th>1</th>\n",
       "      <td>27</td>\n",
       "      <td>Male</td>\n",
       "      <td>100.0</td>\n",
       "      <td>Mild</td>\n",
       "      <td>Delhi</td>\n",
       "      <td>Yes</td>\n",
       "    </tr>\n",
       "    <tr>\n",
       "      <th>2</th>\n",
       "      <td>42</td>\n",
       "      <td>Male</td>\n",
       "      <td>101.0</td>\n",
       "      <td>Mild</td>\n",
       "      <td>Delhi</td>\n",
       "      <td>No</td>\n",
       "    </tr>\n",
       "  </tbody>\n",
       "</table>\n",
       "</div>"
      ],
      "text/plain": [
       "   age gender  fever cough     city has_covid\n",
       "0   60   Male  103.0  Mild  Kolkata        No\n",
       "1   27   Male  100.0  Mild    Delhi       Yes\n",
       "2   42   Male  101.0  Mild    Delhi        No"
      ]
     },
     "execution_count": 15,
     "metadata": {},
     "output_type": "execute_result"
    }
   ],
   "source": [
    "df.head(3)"
   ]
  },
  {
   "cell_type": "code",
   "execution_count": 16,
   "id": "c5faed47-b121-4abf-832d-fae95fddf873",
   "metadata": {},
   "outputs": [
    {
     "data": {
      "text/plain": [
       "city\n",
       "Kolkata      32\n",
       "Bangalore    30\n",
       "Delhi        22\n",
       "Mumbai       16\n",
       "Name: count, dtype: int64"
      ]
     },
     "execution_count": 16,
     "metadata": {},
     "output_type": "execute_result"
    }
   ],
   "source": [
    "df['city'].value_counts()"
   ]
  },
  {
   "cell_type": "code",
   "execution_count": 17,
   "id": "cf5bbbfa-7766-402a-9ffb-6e95d3b49178",
   "metadata": {},
   "outputs": [
    {
     "data": {
      "text/html": [
       "<div>\n",
       "<style scoped>\n",
       "    .dataframe tbody tr th:only-of-type {\n",
       "        vertical-align: middle;\n",
       "    }\n",
       "\n",
       "    .dataframe tbody tr th {\n",
       "        vertical-align: top;\n",
       "    }\n",
       "\n",
       "    .dataframe thead th {\n",
       "        text-align: right;\n",
       "    }\n",
       "</style>\n",
       "<table border=\"1\" class=\"dataframe\">\n",
       "  <thead>\n",
       "    <tr style=\"text-align: right;\">\n",
       "      <th></th>\n",
       "      <th>gender</th>\n",
       "      <th>cough</th>\n",
       "      <th>city</th>\n",
       "      <th>has_covid</th>\n",
       "    </tr>\n",
       "  </thead>\n",
       "  <tbody>\n",
       "    <tr>\n",
       "      <th>0</th>\n",
       "      <td>Male</td>\n",
       "      <td>Mild</td>\n",
       "      <td>Kolkata</td>\n",
       "      <td>No</td>\n",
       "    </tr>\n",
       "    <tr>\n",
       "      <th>1</th>\n",
       "      <td>Male</td>\n",
       "      <td>Mild</td>\n",
       "      <td>Delhi</td>\n",
       "      <td>Yes</td>\n",
       "    </tr>\n",
       "    <tr>\n",
       "      <th>2</th>\n",
       "      <td>Male</td>\n",
       "      <td>Mild</td>\n",
       "      <td>Delhi</td>\n",
       "      <td>No</td>\n",
       "    </tr>\n",
       "  </tbody>\n",
       "</table>\n",
       "</div>"
      ],
      "text/plain": [
       "  gender cough     city has_covid\n",
       "0   Male  Mild  Kolkata        No\n",
       "1   Male  Mild    Delhi       Yes\n",
       "2   Male  Mild    Delhi        No"
      ]
     },
     "execution_count": 17,
     "metadata": {},
     "output_type": "execute_result"
    }
   ],
   "source": [
    "df=df.drop(columns=['age','fever'])\n",
    "df.head(3)"
   ]
  },
  {
   "cell_type": "code",
   "execution_count": 18,
   "id": "d00cd4c5-75c3-4f1f-950f-9805a6f6df8f",
   "metadata": {},
   "outputs": [],
   "source": [
    "from sklearn.preprocessing import OrdinalEncoder"
   ]
  },
  {
   "cell_type": "code",
   "execution_count": 19,
   "id": "c24e954b-2b74-44c5-ac23-0b82d886d66d",
   "metadata": {},
   "outputs": [],
   "source": [
    "oe=OrdinalEncoder(categories=[['Male','Female'],\n",
    "                             ['Mild','Strong'],\n",
    "                             ['Kolkata','Bangalore','Delhi','Mumbai'],\n",
    "                             ['No','Yes']])"
   ]
  },
  {
   "cell_type": "code",
   "execution_count": 20,
   "id": "a68ff4cb-6f67-4365-9615-25ff8bcbb53d",
   "metadata": {},
   "outputs": [
    {
     "data": {
      "text/plain": [
       "array([[0., 0., 0., 0.],\n",
       "       [0., 0., 2., 1.],\n",
       "       [0., 0., 2., 0.],\n",
       "       [1., 0., 0., 0.],\n",
       "       [1., 0., 3., 0.],\n",
       "       [1., 0., 1., 1.],\n",
       "       [0., 1., 1., 0.],\n",
       "       [1., 1., 3., 1.],\n",
       "       [1., 1., 1., 0.],\n",
       "       [1., 0., 2., 0.],\n",
       "       [1., 0., 2., 0.],\n",
       "       [1., 0., 3., 1.],\n",
       "       [1., 1., 0., 0.],\n",
       "       [0., 0., 1., 1.],\n",
       "       [0., 0., 1., 0.],\n",
       "       [0., 1., 0., 1.],\n",
       "       [1., 0., 0., 1.],\n",
       "       [1., 1., 2., 0.],\n",
       "       [1., 0., 1., 1.],\n",
       "       [1., 1., 1., 1.],\n",
       "       [0., 1., 1., 0.],\n",
       "       [0., 0., 1., 1.],\n",
       "       [1., 1., 0., 1.],\n",
       "       [1., 0., 2., 1.],\n",
       "       [1., 1., 0., 0.],\n",
       "       [0., 0., 3., 0.],\n",
       "       [1., 0., 0., 1.],\n",
       "       [1., 1., 2., 0.],\n",
       "       [0., 0., 0., 0.],\n",
       "       [1., 1., 3., 1.],\n",
       "       [0., 0., 2., 1.],\n",
       "       [0., 0., 0., 0.],\n",
       "       [1., 1., 2., 1.],\n",
       "       [1., 0., 0., 0.],\n",
       "       [0., 0., 3., 1.],\n",
       "       [1., 1., 1., 0.],\n",
       "       [1., 0., 1., 0.],\n",
       "       [0., 0., 0., 0.],\n",
       "       [1., 0., 2., 1.],\n",
       "       [1., 0., 0., 0.],\n",
       "       [1., 0., 2., 0.],\n",
       "       [0., 0., 0., 1.],\n",
       "       [0., 0., 2., 1.],\n",
       "       [1., 0., 1., 1.],\n",
       "       [0., 1., 2., 0.],\n",
       "       [0., 0., 1., 0.],\n",
       "       [1., 0., 3., 0.],\n",
       "       [1., 0., 1., 0.],\n",
       "       [0., 1., 1., 0.],\n",
       "       [0., 0., 3., 0.],\n",
       "       [0., 0., 2., 1.],\n",
       "       [1., 1., 0., 1.],\n",
       "       [1., 1., 1., 1.],\n",
       "       [0., 0., 2., 1.],\n",
       "       [1., 0., 3., 1.],\n",
       "       [1., 0., 3., 1.],\n",
       "       [0., 1., 0., 0.],\n",
       "       [1., 1., 1., 0.],\n",
       "       [0., 1., 3., 1.],\n",
       "       [1., 0., 0., 1.],\n",
       "       [1., 1., 1., 1.],\n",
       "       [1., 1., 3., 0.],\n",
       "       [1., 1., 1., 1.],\n",
       "       [0., 0., 1., 0.],\n",
       "       [0., 0., 3., 0.],\n",
       "       [1., 0., 1., 0.],\n",
       "       [0., 0., 0., 0.],\n",
       "       [0., 0., 1., 0.],\n",
       "       [1., 1., 0., 0.],\n",
       "       [1., 0., 2., 0.],\n",
       "       [1., 1., 2., 0.],\n",
       "       [1., 1., 2., 0.],\n",
       "       [1., 0., 0., 0.],\n",
       "       [0., 1., 0., 1.],\n",
       "       [1., 1., 2., 0.],\n",
       "       [0., 0., 0., 1.],\n",
       "       [0., 0., 1., 1.],\n",
       "       [1., 0., 0., 0.],\n",
       "       [0., 0., 1., 1.],\n",
       "       [1., 0., 0., 1.],\n",
       "       [1., 0., 3., 1.],\n",
       "       [0., 0., 2., 0.],\n",
       "       [0., 0., 0., 1.],\n",
       "       [1., 0., 0., 0.],\n",
       "       [1., 1., 3., 0.],\n",
       "       [1., 0., 1., 1.],\n",
       "       [0., 0., 1., 1.],\n",
       "       [0., 1., 1., 0.],\n",
       "       [1., 0., 0., 0.],\n",
       "       [0., 1., 1., 0.],\n",
       "       [1., 1., 2., 0.],\n",
       "       [0., 0., 2., 1.],\n",
       "       [1., 1., 0., 0.],\n",
       "       [0., 0., 0., 1.],\n",
       "       [0., 1., 0., 1.],\n",
       "       [1., 0., 1., 0.],\n",
       "       [1., 1., 0., 1.],\n",
       "       [1., 0., 1., 0.],\n",
       "       [1., 1., 3., 0.],\n",
       "       [1., 1., 0., 1.]])"
      ]
     },
     "execution_count": 20,
     "metadata": {},
     "output_type": "execute_result"
    }
   ],
   "source": [
    "oe.fit_transform(df)"
   ]
  },
  {
   "cell_type": "code",
   "execution_count": 21,
   "id": "c415b505-8068-4b38-8a24-019319ec9782",
   "metadata": {},
   "outputs": [],
   "source": [
    "# OneHotEncoding"
   ]
  },
  {
   "cell_type": "code",
   "execution_count": 22,
   "id": "dd547495-3ef1-4e59-8c52-4122a43c4c8c",
   "metadata": {},
   "outputs": [
    {
     "data": {
      "text/html": [
       "<div>\n",
       "<style scoped>\n",
       "    .dataframe tbody tr th:only-of-type {\n",
       "        vertical-align: middle;\n",
       "    }\n",
       "\n",
       "    .dataframe tbody tr th {\n",
       "        vertical-align: top;\n",
       "    }\n",
       "\n",
       "    .dataframe thead th {\n",
       "        text-align: right;\n",
       "    }\n",
       "</style>\n",
       "<table border=\"1\" class=\"dataframe\">\n",
       "  <thead>\n",
       "    <tr style=\"text-align: right;\">\n",
       "      <th></th>\n",
       "      <th>age</th>\n",
       "      <th>gender</th>\n",
       "      <th>fever</th>\n",
       "      <th>cough</th>\n",
       "      <th>city</th>\n",
       "      <th>has_covid</th>\n",
       "    </tr>\n",
       "  </thead>\n",
       "  <tbody>\n",
       "    <tr>\n",
       "      <th>0</th>\n",
       "      <td>60</td>\n",
       "      <td>Male</td>\n",
       "      <td>103.0</td>\n",
       "      <td>Mild</td>\n",
       "      <td>Kolkata</td>\n",
       "      <td>No</td>\n",
       "    </tr>\n",
       "    <tr>\n",
       "      <th>1</th>\n",
       "      <td>27</td>\n",
       "      <td>Male</td>\n",
       "      <td>100.0</td>\n",
       "      <td>Mild</td>\n",
       "      <td>Delhi</td>\n",
       "      <td>Yes</td>\n",
       "    </tr>\n",
       "  </tbody>\n",
       "</table>\n",
       "</div>"
      ],
      "text/plain": [
       "   age gender  fever cough     city has_covid\n",
       "0   60   Male  103.0  Mild  Kolkata        No\n",
       "1   27   Male  100.0  Mild    Delhi       Yes"
      ]
     },
     "execution_count": 22,
     "metadata": {},
     "output_type": "execute_result"
    }
   ],
   "source": [
    "df=pd.read_csv(\"C:\\\\Users\\\\shiva\\\\Downloads\\\\covid_toy.csv\")\n",
    "df.head(2)"
   ]
  },
  {
   "cell_type": "code",
   "execution_count": 23,
   "id": "0f82dad0-fff7-4912-8680-1ab6babb9837",
   "metadata": {},
   "outputs": [],
   "source": [
    "from sklearn.preprocessing import OneHotEncoder"
   ]
  },
  {
   "cell_type": "code",
   "execution_count": 24,
   "id": "13582cd3-1142-4745-8b54-7fd20ac20853",
   "metadata": {},
   "outputs": [],
   "source": [
    "ohe=OneHotEncoder(drop='first',sparse_output=False,dtype=np.int32)"
   ]
  },
  {
   "cell_type": "code",
   "execution_count": 25,
   "id": "55e687c7-2065-42ad-947c-96d787f1045b",
   "metadata": {},
   "outputs": [],
   "source": [
    "df_new=ohe.fit_transform(df[['gender','cough','city','has_covid']])"
   ]
  },
  {
   "cell_type": "code",
   "execution_count": 26,
   "id": "d7d78437-cbc6-4fe5-ac0c-48ecb4b1b70f",
   "metadata": {},
   "outputs": [],
   "source": [
    "# get_dummies"
   ]
  },
  {
   "cell_type": "code",
   "execution_count": 27,
   "id": "359757aa-615c-4bd2-9d83-89d83ac2ef82",
   "metadata": {},
   "outputs": [],
   "source": [
    "a=pd.get_dummies(df,columns=['gender','cough','city','has_covid'],drop_first=True)"
   ]
  },
  {
   "cell_type": "code",
   "execution_count": 28,
   "id": "20fc6c90-c7ac-4064-a69a-ef9d42b53e88",
   "metadata": {},
   "outputs": [
    {
     "data": {
      "text/html": [
       "<div>\n",
       "<style scoped>\n",
       "    .dataframe tbody tr th:only-of-type {\n",
       "        vertical-align: middle;\n",
       "    }\n",
       "\n",
       "    .dataframe tbody tr th {\n",
       "        vertical-align: top;\n",
       "    }\n",
       "\n",
       "    .dataframe thead th {\n",
       "        text-align: right;\n",
       "    }\n",
       "</style>\n",
       "<table border=\"1\" class=\"dataframe\">\n",
       "  <thead>\n",
       "    <tr style=\"text-align: right;\">\n",
       "      <th></th>\n",
       "      <th>age</th>\n",
       "      <th>fever</th>\n",
       "      <th>gender_Male</th>\n",
       "      <th>cough_Strong</th>\n",
       "      <th>city_Delhi</th>\n",
       "      <th>city_Kolkata</th>\n",
       "      <th>city_Mumbai</th>\n",
       "      <th>has_covid_Yes</th>\n",
       "    </tr>\n",
       "  </thead>\n",
       "  <tbody>\n",
       "    <tr>\n",
       "      <th>0</th>\n",
       "      <td>60</td>\n",
       "      <td>103.0</td>\n",
       "      <td>True</td>\n",
       "      <td>False</td>\n",
       "      <td>False</td>\n",
       "      <td>True</td>\n",
       "      <td>False</td>\n",
       "      <td>False</td>\n",
       "    </tr>\n",
       "    <tr>\n",
       "      <th>1</th>\n",
       "      <td>27</td>\n",
       "      <td>100.0</td>\n",
       "      <td>True</td>\n",
       "      <td>False</td>\n",
       "      <td>True</td>\n",
       "      <td>False</td>\n",
       "      <td>False</td>\n",
       "      <td>True</td>\n",
       "    </tr>\n",
       "    <tr>\n",
       "      <th>2</th>\n",
       "      <td>42</td>\n",
       "      <td>101.0</td>\n",
       "      <td>True</td>\n",
       "      <td>False</td>\n",
       "      <td>True</td>\n",
       "      <td>False</td>\n",
       "      <td>False</td>\n",
       "      <td>False</td>\n",
       "    </tr>\n",
       "  </tbody>\n",
       "</table>\n",
       "</div>"
      ],
      "text/plain": [
       "   age  fever  gender_Male  cough_Strong  city_Delhi  city_Kolkata  \\\n",
       "0   60  103.0         True         False       False          True   \n",
       "1   27  100.0         True         False        True         False   \n",
       "2   42  101.0         True         False        True         False   \n",
       "\n",
       "   city_Mumbai  has_covid_Yes  \n",
       "0        False          False  \n",
       "1        False           True  \n",
       "2        False          False  "
      ]
     },
     "execution_count": 28,
     "metadata": {},
     "output_type": "execute_result"
    }
   ],
   "source": [
    "a=a.dropna()\n",
    "a.head(3)"
   ]
  },
  {
   "cell_type": "code",
   "execution_count": 29,
   "id": "6d44e96e-8078-4e97-9d32-58313c1bff62",
   "metadata": {},
   "outputs": [
    {
     "data": {
      "text/html": [
       "<div>\n",
       "<style scoped>\n",
       "    .dataframe tbody tr th:only-of-type {\n",
       "        vertical-align: middle;\n",
       "    }\n",
       "\n",
       "    .dataframe tbody tr th {\n",
       "        vertical-align: top;\n",
       "    }\n",
       "\n",
       "    .dataframe thead th {\n",
       "        text-align: right;\n",
       "    }\n",
       "</style>\n",
       "<table border=\"1\" class=\"dataframe\">\n",
       "  <thead>\n",
       "    <tr style=\"text-align: right;\">\n",
       "      <th></th>\n",
       "      <th>age</th>\n",
       "      <th>fever</th>\n",
       "      <th>gender_Male</th>\n",
       "      <th>cough_Strong</th>\n",
       "      <th>city_Delhi</th>\n",
       "      <th>city_Kolkata</th>\n",
       "      <th>city_Mumbai</th>\n",
       "      <th>has_covid_Yes</th>\n",
       "    </tr>\n",
       "  </thead>\n",
       "  <tbody>\n",
       "    <tr>\n",
       "      <th>0</th>\n",
       "      <td>60</td>\n",
       "      <td>103</td>\n",
       "      <td>1</td>\n",
       "      <td>0</td>\n",
       "      <td>0</td>\n",
       "      <td>1</td>\n",
       "      <td>0</td>\n",
       "      <td>0</td>\n",
       "    </tr>\n",
       "    <tr>\n",
       "      <th>1</th>\n",
       "      <td>27</td>\n",
       "      <td>100</td>\n",
       "      <td>1</td>\n",
       "      <td>0</td>\n",
       "      <td>1</td>\n",
       "      <td>0</td>\n",
       "      <td>0</td>\n",
       "      <td>1</td>\n",
       "    </tr>\n",
       "    <tr>\n",
       "      <th>2</th>\n",
       "      <td>42</td>\n",
       "      <td>101</td>\n",
       "      <td>1</td>\n",
       "      <td>0</td>\n",
       "      <td>1</td>\n",
       "      <td>0</td>\n",
       "      <td>0</td>\n",
       "      <td>0</td>\n",
       "    </tr>\n",
       "    <tr>\n",
       "      <th>3</th>\n",
       "      <td>31</td>\n",
       "      <td>98</td>\n",
       "      <td>0</td>\n",
       "      <td>0</td>\n",
       "      <td>0</td>\n",
       "      <td>1</td>\n",
       "      <td>0</td>\n",
       "      <td>0</td>\n",
       "    </tr>\n",
       "    <tr>\n",
       "      <th>4</th>\n",
       "      <td>65</td>\n",
       "      <td>101</td>\n",
       "      <td>0</td>\n",
       "      <td>0</td>\n",
       "      <td>0</td>\n",
       "      <td>0</td>\n",
       "      <td>1</td>\n",
       "      <td>0</td>\n",
       "    </tr>\n",
       "    <tr>\n",
       "      <th>...</th>\n",
       "      <td>...</td>\n",
       "      <td>...</td>\n",
       "      <td>...</td>\n",
       "      <td>...</td>\n",
       "      <td>...</td>\n",
       "      <td>...</td>\n",
       "      <td>...</td>\n",
       "      <td>...</td>\n",
       "    </tr>\n",
       "    <tr>\n",
       "      <th>95</th>\n",
       "      <td>12</td>\n",
       "      <td>104</td>\n",
       "      <td>0</td>\n",
       "      <td>0</td>\n",
       "      <td>0</td>\n",
       "      <td>0</td>\n",
       "      <td>0</td>\n",
       "      <td>0</td>\n",
       "    </tr>\n",
       "    <tr>\n",
       "      <th>96</th>\n",
       "      <td>51</td>\n",
       "      <td>101</td>\n",
       "      <td>0</td>\n",
       "      <td>1</td>\n",
       "      <td>0</td>\n",
       "      <td>1</td>\n",
       "      <td>0</td>\n",
       "      <td>1</td>\n",
       "    </tr>\n",
       "    <tr>\n",
       "      <th>97</th>\n",
       "      <td>20</td>\n",
       "      <td>101</td>\n",
       "      <td>0</td>\n",
       "      <td>0</td>\n",
       "      <td>0</td>\n",
       "      <td>0</td>\n",
       "      <td>0</td>\n",
       "      <td>0</td>\n",
       "    </tr>\n",
       "    <tr>\n",
       "      <th>98</th>\n",
       "      <td>5</td>\n",
       "      <td>98</td>\n",
       "      <td>0</td>\n",
       "      <td>1</td>\n",
       "      <td>0</td>\n",
       "      <td>0</td>\n",
       "      <td>1</td>\n",
       "      <td>0</td>\n",
       "    </tr>\n",
       "    <tr>\n",
       "      <th>99</th>\n",
       "      <td>10</td>\n",
       "      <td>98</td>\n",
       "      <td>0</td>\n",
       "      <td>1</td>\n",
       "      <td>0</td>\n",
       "      <td>1</td>\n",
       "      <td>0</td>\n",
       "      <td>1</td>\n",
       "    </tr>\n",
       "  </tbody>\n",
       "</table>\n",
       "<p>90 rows × 8 columns</p>\n",
       "</div>"
      ],
      "text/plain": [
       "    age  fever  gender_Male  cough_Strong  city_Delhi  city_Kolkata  \\\n",
       "0    60    103            1             0           0             1   \n",
       "1    27    100            1             0           1             0   \n",
       "2    42    101            1             0           1             0   \n",
       "3    31     98            0             0           0             1   \n",
       "4    65    101            0             0           0             0   \n",
       "..  ...    ...          ...           ...         ...           ...   \n",
       "95   12    104            0             0           0             0   \n",
       "96   51    101            0             1           0             1   \n",
       "97   20    101            0             0           0             0   \n",
       "98    5     98            0             1           0             0   \n",
       "99   10     98            0             1           0             1   \n",
       "\n",
       "    city_Mumbai  has_covid_Yes  \n",
       "0             0              0  \n",
       "1             0              1  \n",
       "2             0              0  \n",
       "3             0              0  \n",
       "4             1              0  \n",
       "..          ...            ...  \n",
       "95            0              0  \n",
       "96            0              1  \n",
       "97            0              0  \n",
       "98            1              0  \n",
       "99            0              1  \n",
       "\n",
       "[90 rows x 8 columns]"
      ]
     },
     "execution_count": 29,
     "metadata": {},
     "output_type": "execute_result"
    }
   ],
   "source": [
    "a=a.astype(int)\n",
    "a"
   ]
  },
  {
   "cell_type": "code",
   "execution_count": 31,
   "id": "1a173b6f-a0d8-4427-9b71-551919008eb3",
   "metadata": {},
   "outputs": [],
   "source": [
    "from sklearn.model_selection import train_test_split"
   ]
  },
  {
   "cell_type": "code",
   "execution_count": 41,
   "id": "0099dc0f-7d4f-4720-b8d2-d49bf7ca3a57",
   "metadata": {},
   "outputs": [
    {
     "data": {
      "text/plain": [
       "(90, 7)"
      ]
     },
     "execution_count": 41,
     "metadata": {},
     "output_type": "execute_result"
    }
   ],
   "source": [
    "x=a.drop(columns=['has_covid_Yes'])\n",
    "x.shape"
   ]
  },
  {
   "cell_type": "code",
   "execution_count": 43,
   "id": "d381cbf8-a3ca-41a0-ae37-54bafe75eceb",
   "metadata": {},
   "outputs": [
    {
     "data": {
      "text/plain": [
       "(90,)"
      ]
     },
     "execution_count": 43,
     "metadata": {},
     "output_type": "execute_result"
    }
   ],
   "source": [
    "y=a['has_covid_Yes']\n",
    "y.shape"
   ]
  },
  {
   "cell_type": "code",
   "execution_count": 47,
   "id": "d7be4822-586f-4f62-bf1f-24c59b7de2c6",
   "metadata": {},
   "outputs": [],
   "source": [
    "x_train , x_test , y_train , y_test = train_test_split(x,y,test_size = 0.2,random_state = 42)"
   ]
  },
  {
   "cell_type": "code",
   "execution_count": 48,
   "id": "186d1f2c-63f7-45c3-aa25-c64387fd5295",
   "metadata": {},
   "outputs": [
    {
     "name": "stdout",
     "output_type": "stream",
     "text": [
      "Total Df: (100, 6)\n",
      "-----------------------\n",
      "Input data shape(x): (90, 7)\n",
      "x_train data shape(x): (72, 7)\n",
      "x_test data shape(x): (18, 7)\n",
      "-----------------------------------\n",
      "Input data shape(y): (90,)\n",
      "x_train data shape(y): (72,)\n",
      "x_test data shape(y): (18,)\n",
      "-----------------------------------\n"
     ]
    }
   ],
   "source": [
    "print(\"Total Df:\",df.shape)\n",
    "print(\"-----------------------\")\n",
    "print(\"Input data shape(x):\",x.shape)\n",
    "print(\"x_train data shape(x):\",x_train.shape)\n",
    "print(\"x_test data shape(x):\",x_test.shape)\n",
    "print(\"-----------------------------------\")\n",
    "print(\"Input data shape(y):\",y.shape)\n",
    "print(\"x_train data shape(y):\",y_train.shape)\n",
    "print(\"x_test data shape(y):\",y_test.shape)\n",
    "print(\"-----------------------------------\")"
   ]
  },
  {
   "cell_type": "code",
   "execution_count": 49,
   "id": "8b39b163-3255-4158-ac61-14aa6a112ef8",
   "metadata": {},
   "outputs": [],
   "source": [
    "from sklearn.preprocessing import StandardScaler "
   ]
  },
  {
   "cell_type": "code",
   "execution_count": 50,
   "id": "c35041df-1ef3-4677-8b07-4a4abf029ddb",
   "metadata": {},
   "outputs": [],
   "source": [
    "sc=  StandardScaler() "
   ]
  },
  {
   "cell_type": "code",
   "execution_count": 51,
   "id": "fb8ea933-8d27-4e33-aaf6-d2760e668506",
   "metadata": {},
   "outputs": [],
   "source": [
    "x_train_sc = sc.fit_transform(x_train) "
   ]
  },
  {
   "cell_type": "code",
   "execution_count": 52,
   "id": "6a16240f-83a4-41d5-b236-4c9730b9e034",
   "metadata": {},
   "outputs": [],
   "source": [
    "x_train_new = pd.DataFrame(x_train_sc , columns = x_train.columns) "
   ]
  },
  {
   "cell_type": "code",
   "execution_count": 53,
   "id": "269237a2-e94f-4fd0-883e-5ced5cf38879",
   "metadata": {},
   "outputs": [
    {
     "data": {
      "text/html": [
       "<div>\n",
       "<style scoped>\n",
       "    .dataframe tbody tr th:only-of-type {\n",
       "        vertical-align: middle;\n",
       "    }\n",
       "\n",
       "    .dataframe tbody tr th {\n",
       "        vertical-align: top;\n",
       "    }\n",
       "\n",
       "    .dataframe thead th {\n",
       "        text-align: right;\n",
       "    }\n",
       "</style>\n",
       "<table border=\"1\" class=\"dataframe\">\n",
       "  <thead>\n",
       "    <tr style=\"text-align: right;\">\n",
       "      <th></th>\n",
       "      <th>age</th>\n",
       "      <th>fever</th>\n",
       "      <th>gender_Male</th>\n",
       "      <th>cough_Strong</th>\n",
       "      <th>city_Delhi</th>\n",
       "      <th>city_Kolkata</th>\n",
       "      <th>city_Mumbai</th>\n",
       "    </tr>\n",
       "  </thead>\n",
       "  <tbody>\n",
       "    <tr>\n",
       "      <th>count</th>\n",
       "      <td>72.00</td>\n",
       "      <td>72.00</td>\n",
       "      <td>72.00</td>\n",
       "      <td>72.00</td>\n",
       "      <td>72.00</td>\n",
       "      <td>72.00</td>\n",
       "      <td>72.00</td>\n",
       "    </tr>\n",
       "    <tr>\n",
       "      <th>mean</th>\n",
       "      <td>-0.00</td>\n",
       "      <td>-0.00</td>\n",
       "      <td>-0.00</td>\n",
       "      <td>0.00</td>\n",
       "      <td>-0.00</td>\n",
       "      <td>0.00</td>\n",
       "      <td>-0.00</td>\n",
       "    </tr>\n",
       "    <tr>\n",
       "      <th>std</th>\n",
       "      <td>1.01</td>\n",
       "      <td>1.01</td>\n",
       "      <td>1.01</td>\n",
       "      <td>1.01</td>\n",
       "      <td>1.01</td>\n",
       "      <td>1.01</td>\n",
       "      <td>1.01</td>\n",
       "    </tr>\n",
       "    <tr>\n",
       "      <th>min</th>\n",
       "      <td>-1.53</td>\n",
       "      <td>-1.30</td>\n",
       "      <td>-0.75</td>\n",
       "      <td>-0.73</td>\n",
       "      <td>-0.56</td>\n",
       "      <td>-0.69</td>\n",
       "      <td>-0.38</td>\n",
       "    </tr>\n",
       "    <tr>\n",
       "      <th>25%</th>\n",
       "      <td>-0.95</td>\n",
       "      <td>-0.83</td>\n",
       "      <td>-0.75</td>\n",
       "      <td>-0.73</td>\n",
       "      <td>-0.56</td>\n",
       "      <td>-0.69</td>\n",
       "      <td>-0.38</td>\n",
       "    </tr>\n",
       "    <tr>\n",
       "      <th>50%</th>\n",
       "      <td>0.14</td>\n",
       "      <td>0.13</td>\n",
       "      <td>-0.75</td>\n",
       "      <td>-0.73</td>\n",
       "      <td>-0.56</td>\n",
       "      <td>-0.69</td>\n",
       "      <td>-0.38</td>\n",
       "    </tr>\n",
       "    <tr>\n",
       "      <th>75%</th>\n",
       "      <td>0.86</td>\n",
       "      <td>0.72</td>\n",
       "      <td>1.33</td>\n",
       "      <td>1.37</td>\n",
       "      <td>-0.56</td>\n",
       "      <td>1.46</td>\n",
       "      <td>-0.38</td>\n",
       "    </tr>\n",
       "    <tr>\n",
       "      <th>max</th>\n",
       "      <td>1.57</td>\n",
       "      <td>1.55</td>\n",
       "      <td>1.33</td>\n",
       "      <td>1.37</td>\n",
       "      <td>1.80</td>\n",
       "      <td>1.46</td>\n",
       "      <td>2.65</td>\n",
       "    </tr>\n",
       "  </tbody>\n",
       "</table>\n",
       "</div>"
      ],
      "text/plain": [
       "         age  fever  gender_Male  cough_Strong  city_Delhi  city_Kolkata  \\\n",
       "count  72.00  72.00        72.00         72.00       72.00         72.00   \n",
       "mean   -0.00  -0.00        -0.00          0.00       -0.00          0.00   \n",
       "std     1.01   1.01         1.01          1.01        1.01          1.01   \n",
       "min    -1.53  -1.30        -0.75         -0.73       -0.56         -0.69   \n",
       "25%    -0.95  -0.83        -0.75         -0.73       -0.56         -0.69   \n",
       "50%     0.14   0.13        -0.75         -0.73       -0.56         -0.69   \n",
       "75%     0.86   0.72         1.33          1.37       -0.56          1.46   \n",
       "max     1.57   1.55         1.33          1.37        1.80          1.46   \n",
       "\n",
       "       city_Mumbai  \n",
       "count        72.00  \n",
       "mean         -0.00  \n",
       "std           1.01  \n",
       "min          -0.38  \n",
       "25%          -0.38  \n",
       "50%          -0.38  \n",
       "75%          -0.38  \n",
       "max           2.65  "
      ]
     },
     "execution_count": 53,
     "metadata": {},
     "output_type": "execute_result"
    }
   ],
   "source": [
    "np.round(x_train_new.describe() ,2)"
   ]
  },
  {
   "cell_type": "code",
   "execution_count": 54,
   "id": "354b3f37-4152-4216-a520-3a834255a582",
   "metadata": {},
   "outputs": [],
   "source": [
    "from sklearn.preprocessing import MinMaxScaler"
   ]
  },
  {
   "cell_type": "code",
   "execution_count": 55,
   "id": "e61df962-f4ff-4f7f-9962-16808288c023",
   "metadata": {},
   "outputs": [],
   "source": [
    "mn = MinMaxScaler()"
   ]
  },
  {
   "cell_type": "code",
   "execution_count": 56,
   "id": "2f246c9b-6baa-423a-8ee1-ad1148e5c60a",
   "metadata": {},
   "outputs": [],
   "source": [
    "x_train_mn = mn.fit_transform(x_train)"
   ]
  },
  {
   "cell_type": "code",
   "execution_count": 57,
   "id": "cdd9a6f2-d98d-4272-8896-97b3b84ac661",
   "metadata": {},
   "outputs": [],
   "source": [
    "x_train_new = pd.DataFrame(x_train_mn , columns = x_train.columns) "
   ]
  },
  {
   "cell_type": "code",
   "execution_count": 58,
   "id": "08b57733-cc8d-46d8-a747-caa249558650",
   "metadata": {},
   "outputs": [
    {
     "data": {
      "text/html": [
       "<div>\n",
       "<style scoped>\n",
       "    .dataframe tbody tr th:only-of-type {\n",
       "        vertical-align: middle;\n",
       "    }\n",
       "\n",
       "    .dataframe tbody tr th {\n",
       "        vertical-align: top;\n",
       "    }\n",
       "\n",
       "    .dataframe thead th {\n",
       "        text-align: right;\n",
       "    }\n",
       "</style>\n",
       "<table border=\"1\" class=\"dataframe\">\n",
       "  <thead>\n",
       "    <tr style=\"text-align: right;\">\n",
       "      <th></th>\n",
       "      <th>age</th>\n",
       "      <th>fever</th>\n",
       "      <th>gender_Male</th>\n",
       "      <th>cough_Strong</th>\n",
       "      <th>city_Delhi</th>\n",
       "      <th>city_Kolkata</th>\n",
       "      <th>city_Mumbai</th>\n",
       "    </tr>\n",
       "  </thead>\n",
       "  <tbody>\n",
       "    <tr>\n",
       "      <th>count</th>\n",
       "      <td>72.00</td>\n",
       "      <td>72.00</td>\n",
       "      <td>72.00</td>\n",
       "      <td>72.00</td>\n",
       "      <td>72.00</td>\n",
       "      <td>72.00</td>\n",
       "      <td>72.00</td>\n",
       "    </tr>\n",
       "    <tr>\n",
       "      <th>mean</th>\n",
       "      <td>0.49</td>\n",
       "      <td>0.46</td>\n",
       "      <td>0.36</td>\n",
       "      <td>0.35</td>\n",
       "      <td>0.24</td>\n",
       "      <td>0.32</td>\n",
       "      <td>0.12</td>\n",
       "    </tr>\n",
       "    <tr>\n",
       "      <th>std</th>\n",
       "      <td>0.32</td>\n",
       "      <td>0.35</td>\n",
       "      <td>0.48</td>\n",
       "      <td>0.48</td>\n",
       "      <td>0.43</td>\n",
       "      <td>0.47</td>\n",
       "      <td>0.33</td>\n",
       "    </tr>\n",
       "    <tr>\n",
       "      <th>min</th>\n",
       "      <td>0.00</td>\n",
       "      <td>0.00</td>\n",
       "      <td>0.00</td>\n",
       "      <td>0.00</td>\n",
       "      <td>0.00</td>\n",
       "      <td>0.00</td>\n",
       "      <td>0.00</td>\n",
       "    </tr>\n",
       "    <tr>\n",
       "      <th>25%</th>\n",
       "      <td>0.19</td>\n",
       "      <td>0.17</td>\n",
       "      <td>0.00</td>\n",
       "      <td>0.00</td>\n",
       "      <td>0.00</td>\n",
       "      <td>0.00</td>\n",
       "      <td>0.00</td>\n",
       "    </tr>\n",
       "    <tr>\n",
       "      <th>50%</th>\n",
       "      <td>0.54</td>\n",
       "      <td>0.50</td>\n",
       "      <td>0.00</td>\n",
       "      <td>0.00</td>\n",
       "      <td>0.00</td>\n",
       "      <td>0.00</td>\n",
       "      <td>0.00</td>\n",
       "    </tr>\n",
       "    <tr>\n",
       "      <th>75%</th>\n",
       "      <td>0.77</td>\n",
       "      <td>0.71</td>\n",
       "      <td>1.00</td>\n",
       "      <td>1.00</td>\n",
       "      <td>0.00</td>\n",
       "      <td>1.00</td>\n",
       "      <td>0.00</td>\n",
       "    </tr>\n",
       "    <tr>\n",
       "      <th>max</th>\n",
       "      <td>1.00</td>\n",
       "      <td>1.00</td>\n",
       "      <td>1.00</td>\n",
       "      <td>1.00</td>\n",
       "      <td>1.00</td>\n",
       "      <td>1.00</td>\n",
       "      <td>1.00</td>\n",
       "    </tr>\n",
       "  </tbody>\n",
       "</table>\n",
       "</div>"
      ],
      "text/plain": [
       "         age  fever  gender_Male  cough_Strong  city_Delhi  city_Kolkata  \\\n",
       "count  72.00  72.00        72.00         72.00       72.00         72.00   \n",
       "mean    0.49   0.46         0.36          0.35        0.24          0.32   \n",
       "std     0.32   0.35         0.48          0.48        0.43          0.47   \n",
       "min     0.00   0.00         0.00          0.00        0.00          0.00   \n",
       "25%     0.19   0.17         0.00          0.00        0.00          0.00   \n",
       "50%     0.54   0.50         0.00          0.00        0.00          0.00   \n",
       "75%     0.77   0.71         1.00          1.00        0.00          1.00   \n",
       "max     1.00   1.00         1.00          1.00        1.00          1.00   \n",
       "\n",
       "       city_Mumbai  \n",
       "count        72.00  \n",
       "mean          0.12  \n",
       "std           0.33  \n",
       "min           0.00  \n",
       "25%           0.00  \n",
       "50%           0.00  \n",
       "75%           0.00  \n",
       "max           1.00  "
      ]
     },
     "execution_count": 58,
     "metadata": {},
     "output_type": "execute_result"
    }
   ],
   "source": [
    "np.round(x_train_new.describe(),2)"
   ]
  },
  {
   "cell_type": "code",
   "execution_count": null,
   "id": "2af48555-ff6c-40b0-92bd-0f7b8839f03a",
   "metadata": {},
   "outputs": [],
   "source": []
  }
 ],
 "metadata": {
  "kernelspec": {
   "display_name": "Python 3 (ipykernel)",
   "language": "python",
   "name": "python3"
  },
  "language_info": {
   "codemirror_mode": {
    "name": "ipython",
    "version": 3
   },
   "file_extension": ".py",
   "mimetype": "text/x-python",
   "name": "python",
   "nbconvert_exporter": "python",
   "pygments_lexer": "ipython3",
   "version": "3.12.6"
  }
 },
 "nbformat": 4,
 "nbformat_minor": 5
}
